{
 "cells": [
  {
   "cell_type": "code",
   "execution_count": 1,
   "metadata": {},
   "outputs": [
    {
     "name": "stderr",
     "output_type": "stream",
     "text": [
      "/home/leeyh/anaconda2/lib/python2.7/site-packages/numpy/core/machar.py:127: RuntimeWarning: overflow encountered in add\n",
      "  a = a + a\n",
      "/home/leeyh/anaconda2/lib/python2.7/site-packages/numpy/core/machar.py:129: RuntimeWarning: invalid value encountered in subtract\n",
      "  temp1 = temp - a\n",
      "/home/leeyh/anaconda2/lib/python2.7/site-packages/numpy/core/machar.py:138: RuntimeWarning: invalid value encountered in subtract\n",
      "  itemp = int_conv(temp-a)\n",
      "/home/leeyh/anaconda2/lib/python2.7/site-packages/numpy/core/machar.py:162: RuntimeWarning: overflow encountered in add\n",
      "  a = a + a\n",
      "/home/leeyh/anaconda2/lib/python2.7/site-packages/numpy/core/machar.py:164: RuntimeWarning: invalid value encountered in subtract\n",
      "  temp1 = temp - a\n",
      "/home/leeyh/anaconda2/lib/python2.7/site-packages/numpy/core/machar.py:171: RuntimeWarning: invalid value encountered in subtract\n",
      "  if any(temp-a != zero):\n"
     ]
    }
   ],
   "source": [
    "import os\n",
    "import glob\n",
    "import xml.etree.ElementTree as ET\n",
    "from PIL import Image\n",
    "import matplotlib.pyplot as plt\n",
    "import json\n",
    "import random\n",
    "import image\n",
    "import torch\n",
    "import torch.nn as nn\n",
    "import torch.nn.functional as F\n",
    "import torch.optim as optim\n",
    "import torch.backends.cudnn as cudnn\n",
    "from torchvision import datasets, transforms\n",
    "from torch.autograd import Variable\n",
    "import h5py\n",
    "import numpy as np\n",
    "import cv2\n",
    "from utils import *\n",
    "%matplotlib inline"
   ]
  },
  {
   "cell_type": "code",
   "execution_count": 7,
   "metadata": {
    "collapsed": true
   },
   "outputs": [],
   "source": [
    "def gts_boxs(frame_size,gts):\n",
    "    imgsize = (frame_size[1],frame_size[0])\n",
    "    boxs = np.zeros((len(gts),4))\n",
    "    for i in range(0,len(gts)):\n",
    "        boxs[i] = np.array(region_to_bbox(gts[i]))\n",
    "    return boxs\n",
    "def init_video(root_dataset, dataset, video):\n",
    "    video_folder = os.path.join(root_dataset, dataset, video)\n",
    "    frame_name_list = [f for f in os.listdir(video_folder) if f.endswith(\".jpg\")]\n",
    "    frame_name_list = [os.path.join(root_dataset, dataset, video, '') + s for s in frame_name_list]\n",
    "    frame_name_list.sort()\n",
    "    with Image.open(frame_name_list[0]) as img:\n",
    "        frame_sz = np.asarray(img.size)\n",
    "        frame_sz[1], frame_sz[0] = frame_sz[0], frame_sz[1]\n",
    "\n",
    "    # read the initialization from ground truth\n",
    "    gt_file = os.path.join(video_folder, 'groundtruth.txt')\n",
    "    gt = np.genfromtxt(gt_file, delimiter=',')\n",
    "    n_frames = len(frame_name_list)\n",
    "    assert n_frames == len(gt), 'Number of frames and number of GT lines should be equal.'\n",
    "\n",
    "    return gt, frame_name_list, frame_sz, n_frames\n",
    "def region_to_bbox(region, center=True):\n",
    "    n = len(region)\n",
    "    assert n==4 or n==8, ('GT region format is invalid, should have 4 or 8 entries.')\n",
    "\n",
    "    if n==4:\n",
    "        return _rect(region, center)\n",
    "    else:\n",
    "        return _poly(region, center)\n",
    "def _rect(region, center):\n",
    "    \n",
    "    if center:\n",
    "        x = region[0]\n",
    "        y = region[1]\n",
    "        w = region[2]\n",
    "        h = region[3]\n",
    "        cx = x+w/2\n",
    "        cy = y+h/2\n",
    "        return cx, cy, w, h\n",
    "    else:\n",
    "        #region[0] -= 1\n",
    "        #region[1] -= 1\n",
    "        return region\n",
    "\n",
    "\n",
    "def _poly(region, center):\n",
    "    cx = np.mean(region[::2])\n",
    "    cy = np.mean(region[1::2])\n",
    "    x1 = np.min(region[::2])\n",
    "    x2 = np.max(region[::2])\n",
    "    y1 = np.min(region[1::2])\n",
    "    y2 = np.max(region[1::2])\n",
    "    A1 = np.linalg.norm(region[0:2] - region[2:4]) * np.linalg.norm(region[2:4] - region[4:6])\n",
    "    A2 = (x2 - x1) * (y2 - y1)\n",
    "    s = np.sqrt(A1/A2)\n",
    "    w = s * (x2 - x1) + 1\n",
    "    h = s * (y2 - y1) + 1\n",
    "\n",
    "    if center:\n",
    "        return cx, cy, w, h\n",
    "    else:\n",
    "        return cx-w/2, cy-h/2, w, h"
   ]
  },
  {
   "cell_type": "markdown",
   "metadata": {},
   "source": [
    "# vot2017"
   ]
  },
  {
   "cell_type": "code",
   "execution_count": 19,
   "metadata": {
    "collapsed": true
   },
   "outputs": [],
   "source": [
    "root = '/home/leeyh/Downloads/vot2017/'"
   ]
  },
  {
   "cell_type": "code",
   "execution_count": 23,
   "metadata": {},
   "outputs": [],
   "source": [
    "names = []\n",
    "for name in glob.glob(os.path.join(root,'*')):\n",
    "    names.append(name.replace(root,''))"
   ]
  },
  {
   "cell_type": "code",
   "execution_count": 24,
   "metadata": {
    "scrolled": true
   },
   "outputs": [
    {
     "data": {
      "text/plain": [
       "['soldier',\n",
       " 'bmx',\n",
       " 'handball1',\n",
       " 'zebrafish1',\n",
       " 'birds1',\n",
       " 'drone_across',\n",
       " 'bolt2',\n",
       " 'glove',\n",
       " 'crabs1',\n",
       " 'nature',\n",
       " 'fernando',\n",
       " 'soccer2',\n",
       " 'drone1',\n",
       " 'racing',\n",
       " 'fish1',\n",
       " 'road',\n",
       " 'shaking',\n",
       " 'fish2',\n",
       " 'ball2',\n",
       " 'gymnastics3',\n",
       " 'dinosaur',\n",
       " 'book',\n",
       " 'hand',\n",
       " 'bolt1',\n",
       " 'iceskater2',\n",
       " 'ants3',\n",
       " 'tiger',\n",
       " 'basketball',\n",
       " 'pedestrian1',\n",
       " 'matrix',\n",
       " 'bag',\n",
       " 'gymnastics2',\n",
       " 'blanket',\n",
       " 'leaves',\n",
       " 'gymnastics1',\n",
       " 'graduate',\n",
       " 'godfather',\n",
       " 'sheep',\n",
       " 'iceskater1',\n",
       " 'car1',\n",
       " 'singer2',\n",
       " 'helicopter',\n",
       " 'traffic',\n",
       " 'wiper',\n",
       " 'frisbee',\n",
       " 'motocross2',\n",
       " 'ants1',\n",
       " 'singer3',\n",
       " 'crossing',\n",
       " 'ball1',\n",
       " 'rabbit',\n",
       " 'conduction1',\n",
       " 'drone_flip',\n",
       " 'flamingo1',\n",
       " 'motocross1',\n",
       " 'girl',\n",
       " 'soccer1',\n",
       " 'handball2',\n",
       " 'fish3',\n",
       " 'butterfly']"
      ]
     },
     "execution_count": 24,
     "metadata": {},
     "output_type": "execute_result"
    }
   ],
   "source": [
    "names"
   ]
  },
  {
   "cell_type": "code",
   "execution_count": 25,
   "metadata": {
    "collapsed": true
   },
   "outputs": [],
   "source": [
    "root_dataset = '/home/leeyh/Downloads'\n",
    "dataset = 'vot2017'\n",
    "sequences_info = []\n",
    "for name in names:\n",
    "    gt, frame_name_list, frame_sz, n_frames = init_video(root_dataset, dataset, name)\n",
    "    gts = gts_boxs(frame_sz,gt)\n",
    "    track_ids = [[]]\n",
    "    for i in xrange(len(gts)):\n",
    "        box = gts[i]\n",
    "        track_ids[0].append([frame_name_list[i],[float(box[0]-box[2]*0.5),float(box[0]+box[2]*0.5),float(box[1]-box[3]*0.5),float(box[1]+box[3]*0.5)]])\n",
    "    sequences_info.append(track_ids)   "
   ]
  },
  {
   "cell_type": "code",
   "execution_count": 26,
   "metadata": {
    "collapsed": true
   },
   "outputs": [],
   "source": [
    "with open('vot2018.txt', 'w') as outfile:\n",
    "    json.dump(sequences_info, outfile)"
   ]
  },
  {
   "cell_type": "markdown",
   "metadata": {},
   "source": [
    "# otb100"
   ]
  },
  {
   "cell_type": "code",
   "execution_count": 9,
   "metadata": {
    "collapsed": true
   },
   "outputs": [],
   "source": [
    "root = '/home/leeyh/backup/data/'"
   ]
  },
  {
   "cell_type": "code",
   "execution_count": 11,
   "metadata": {
    "collapsed": true,
    "scrolled": true
   },
   "outputs": [],
   "source": [
    "names = []sequences_info.append(track_ids)\n",
    "for name in glob.glob(os.path.join(root,'*')):\n",
    "    names.append(name)"
   ]
  },
  {
   "cell_type": "code",
   "execution_count": 14,
   "metadata": {
    "collapsed": true
   },
   "outputs": [],
   "source": [
    "boxes = np.loadtxt(os.path.join(names[0],'groundtruth_rect.txt'),delimiter = ',')"
   ]
  },
  {
   "cell_type": "code",
   "execution_count": 51,
   "metadata": {
    "scrolled": true
   },
   "outputs": [
    {
     "name": "stdout",
     "output_type": "stream",
     "text": [
      "/home/leeyh/backup/data/Man 134 134\n",
      "/home/leeyh/backup/data/CarDark 393 393\n",
      "/home/leeyh/backup/data/Human6 792 792\n",
      "/home/leeyh/backup/data/Freeman3 474 460\n",
      "/home/leeyh/backup/data/Matrix 100 100\n",
      "/home/leeyh/backup/data/Tiger1 354 354\n",
      "/home/leeyh/backup/data/CarScale 253 252\n",
      "/home/leeyh/backup/data/Deer 71 71\n",
      "/home/leeyh/backup/data/Bird2 99 99\n",
      "/home/leeyh/backup/data/BlurCar1 742 742\n",
      "/home/leeyh/backup/data/Lemming 1336 1336\n",
      "/home/leeyh/backup/data/Skating2-1 473 473\n",
      "/home/leeyh/backup/data/Trans 124 124\n",
      "/home/leeyh/backup/data/Boy 602 602\n",
      "/home/leeyh/backup/data/Jogging-1 307 307\n",
      "/home/leeyh/backup/data/Toy 271 271\n",
      "/home/leeyh/backup/data/Diving 231 215\n",
      "/home/leeyh/backup/data/Car2 913 913\n",
      "/home/leeyh/backup/data/Football1 81 74\n",
      "/home/leeyh/backup/data/Jump 122 122\n",
      "/home/leeyh/backup/data/Skating1 400 400\n",
      "/home/leeyh/backup/data/Crossing 120 120\n",
      "/home/leeyh/backup/data/Bolt 350 350\n",
      "/home/leeyh/backup/data/BasketBall 725 725\n",
      "/home/leeyh/backup/data/Subway 176 175\n",
      "/home/leeyh/backup/data/Girl2 1500 1500\n",
      "/home/leeyh/backup/data/Jumping 313 313\n",
      "/home/leeyh/backup/data/DragonBaby 113 113\n",
      "/home/leeyh/backup/data/RedTeam 1918 1918\n",
      "/home/leeyh/backup/data/BlurBody 334 334\n",
      "/home/leeyh/backup/data/Skater 160 160\n",
      "/home/leeyh/backup/data/Shaking 365 365\n",
      "/home/leeyh/backup/data/Biker 142 142\n",
      "/home/leeyh/backup/data/Bird1 408 408\n",
      "/home/leeyh/backup/data/David2 537 537\n",
      "/home/leeyh/backup/data/Woman 597 597\n",
      "/home/leeyh/backup/data/Dog 127 127\n",
      "/home/leeyh/backup/data/Suv 945 945\n",
      "/home/leeyh/backup/data/Mhyang 1490 1490\n",
      "/home/leeyh/backup/data/Twinnings 472 472\n",
      "/home/leeyh/backup/data/BlurFace 493 493\n",
      "/home/leeyh/backup/data/KiteSurf 84 84\n",
      "/home/leeyh/backup/data/FaceOcc2 812 812\n",
      "/home/leeyh/backup/data/Tiger2 365 365\n",
      "/home/leeyh/backup/data/Rubik 1997 1997\n",
      "/home/leeyh/backup/data/Gym 767 767\n",
      "/home/leeyh/backup/data/Human2 1128 1128\n",
      "/home/leeyh/backup/data/Walking2 500 500\n",
      "/home/leeyh/backup/data/Human4-2 667 667\n",
      "/home/leeyh/backup/data/Human9 305 305\n",
      "/home/leeyh/backup/data/Trellis 569 569\n",
      "/home/leeyh/backup/data/Soccer 392 392\n",
      "/home/leeyh/backup/data/Singer1 351 351\n",
      "/home/leeyh/backup/data/Jogging-2 307 307\n",
      "/home/leeyh/backup/data/Girl 500 500\n",
      "/home/leeyh/backup/data/David 770 471\n",
      "/home/leeyh/backup/data/Fish 476 476\n",
      "/home/leeyh/backup/data/Dudek 1145 1145\n",
      "/home/leeyh/backup/data/Panda 1000 1000\n",
      "/home/leeyh/backup/data/Coupon 327 327\n",
      "/home/leeyh/backup/data/FaceOcc1 892 892\n",
      "/home/leeyh/backup/data/Couple 140 140\n",
      "/home/leeyh/backup/data/Human7 250 250\n",
      "/home/leeyh/backup/data/Board 698 698\n",
      "/home/leeyh/backup/data/Freeman4 297 283\n",
      "/home/leeyh/backup/data/Skater2 435 435\n",
      "/home/leeyh/backup/data/BlurCar3 357 357\n",
      "/home/leeyh/backup/data/Skating2-2 473 473\n",
      "/home/leeyh/backup/data/Ironman 166 166\n",
      "/home/leeyh/backup/data/Sylvester 1345 1345\n",
      "/home/leeyh/backup/data/Human5 713 713\n",
      "/home/leeyh/backup/data/Vase 271 271\n",
      "/home/leeyh/backup/data/Coke 291 291\n",
      "/home/leeyh/backup/data/ClifBar 472 472\n",
      "/home/leeyh/backup/data/Football 362 362\n",
      "/home/leeyh/backup/data/Freeman1 326 326\n",
      "/home/leeyh/backup/data/Walking 412 412\n",
      "/home/leeyh/backup/data/Human3 1698 1698\n",
      "/home/leeyh/backup/data/Surfer 376 376\n",
      "/home/leeyh/backup/data/Dancer2 150 150\n",
      "/home/leeyh/backup/data/Car24 3059 3059\n",
      "/home/leeyh/backup/data/Human8 128 128\n",
      "/home/leeyh/backup/data/Box 1161 1161\n",
      "/home/leeyh/backup/data/Dancer 225 225\n",
      "/home/leeyh/backup/data/Car1 1020 1020\n",
      "/home/leeyh/backup/data/BlurCar2 585 585\n",
      "/home/leeyh/backup/data/Bolt2 293 293\n",
      "/home/leeyh/backup/data/MountainBike 228 228\n",
      "/home/leeyh/backup/data/Singer2 366 366\n",
      "/home/leeyh/backup/data/BlurCar4 380 380\n",
      "/home/leeyh/backup/data/Dog1 1350 1350\n",
      "/home/leeyh/backup/data/Crowds 347 347\n",
      "/home/leeyh/backup/data/Skiing 81 81\n",
      "/home/leeyh/backup/data/Liquor 1741 1741\n",
      "/home/leeyh/backup/data/BlurOwl 631 631\n",
      "/home/leeyh/backup/data/MotorRolling 164 164\n",
      "/home/leeyh/backup/data/FleetFace 707 707\n",
      "/home/leeyh/backup/data/David3 252 252\n",
      "/home/leeyh/backup/data/Doll 3872 3872\n",
      "/home/leeyh/backup/data/Car4 659 659\n"
     ]
    }
   ],
   "source": [
    "sequences_info = []\n",
    "for name in names:\n",
    "    track_ids = [[]]\n",
    "    try:\n",
    "        boxes = np.loadtxt(os.path.join(name,'groundtruth_rect.txt'),delimiter = ',')\n",
    "    except:\n",
    "        boxes = np.loadtxt(os.path.join(name,'groundtruth_rect.txt'))\n",
    "    img_paths = []\n",
    "    for img_path in glob.glob(os.path.join(name,'img/*')): \n",
    "        img_paths.append(img_path)\n",
    "    img_paths.sort()\n",
    "    \n",
    "    for i in xrange(len(boxes)):\n",
    "        box = boxes[i]\n",
    "        track_ids[0].append([img_paths[i],[float(box[0]-1),float(box[0]-1+box[2]),float(box[1]-1),float(box[1]-1+box[3])]])\n",
    "    sequences_info.append(track_ids)\n",
    "    \n",
    "    print name,len(img_paths),len(boxes)"
   ]
  },
  {
   "cell_type": "code",
   "execution_count": 52,
   "metadata": {
    "collapsed": true
   },
   "outputs": [],
   "source": [
    "with open('otb100.txt', 'w') as outfile:\n",
    "    json.dump(sequences_info, outfile)"
   ]
  }
 ],
 "metadata": {
  "kernelspec": {
   "display_name": "Python 2",
   "language": "python",
   "name": "python2"
  },
  "language_info": {
   "codemirror_mode": {
    "name": "ipython",
    "version": 2
   },
   "file_extension": ".py",
   "mimetype": "text/x-python",
   "name": "python",
   "nbconvert_exporter": "python",
   "pygments_lexer": "ipython2",
   "version": "2.7.13"
  }
 },
 "nbformat": 4,
 "nbformat_minor": 2
}
